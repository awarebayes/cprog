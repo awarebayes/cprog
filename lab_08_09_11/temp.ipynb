{
 "cells": [
  {
   "cell_type": "code",
   "execution_count": 19,
   "metadata": {},
   "outputs": [],
   "source": [
    "import numpy as np\n",
    "\n",
    "def GENP(A, b):\n",
    "    '''\n",
    "    Gaussian elimination with no pivoting.\n",
    "    % input: A is an n x n nonsingular matrix\n",
    "    %        b is an n x 1 vector\n",
    "    % output: x is the solution of Ax=b.\n",
    "    % post-condition: A and b have been modified. \n",
    "    '''\n",
    "    n =  len(A)\n",
    "    if b.size != n:\n",
    "        raise ValueError(\"Invalid argument: incompatible sizes between A & b.\", b.size, n)\n",
    "    for pivot_row in  range(n-1):\n",
    "        for row in  range(pivot_row+1, n):\n",
    "            multiplier = A[row][pivot_row]/A[pivot_row][pivot_row]\n",
    "            #the only one in this column since the rest are zero\n",
    "            A[row][pivot_row] = multiplier\n",
    "            for col in range(pivot_row + 1, n):\n",
    "                A[row][col] = A[row][col] - multiplier*A[pivot_row][col]\n",
    "            #Equation solution column\n",
    "            b[row] = b[row] - multiplier*b[pivot_row]\n",
    "    print(A)\n",
    "    print(b)\n",
    "    x = np.zeros(n)\n",
    "    k = n-1\n",
    "    x[k] = b[k]/A[k,k]\n",
    "    while k >= 0:\n",
    "        x[k] = (b[k] - np.dot(A[k,k+1:],x[k+1:]))/A[k,k]\n",
    "        k = k-1\n",
    "    return x\n",
    "\n",
    "def GEPP(A, b):\n",
    "    '''\n",
    "    Gaussian elimination with partial pivoting.\n",
    "    % input: A is an n x n nonsingular matrix\n",
    "    %        b is an n x 1 vector\n",
    "    % output: x is the solution of Ax=b.\n",
    "    % post-condition: A and b have been modified. \n",
    "    '''\n",
    "    n =  len(A)\n",
    "    if b.size != n:\n",
    "        raise ValueError(\"Invalid argument: incompatible sizes between A & b.\", b.size, n)\n",
    "    # k represents the current pivot row. Since GE traverses the matrix in the upper \n",
    "    # right triangle, we also use k for indicating the k-th diagonal column index.\n",
    "    for k in range(n-1):\n",
    "        #Choose largest pivot element below (and including) k\n",
    "        maxindex = abs(A[k:,k]).argmax() + k\n",
    "        if A[maxindex, k] == 0:\n",
    "            raise ValueError(\"Matrix is singular.\")\n",
    "        #Swap rows\n",
    "        if maxindex != k:\n",
    "            A[[k,maxindex]] = A[[maxindex, k]]\n",
    "            b[[k,maxindex]] = b[[maxindex, k]]\n",
    "        for row in range(k+1, n):\n",
    "            multiplier = A[row][k]/A[k][k]\n",
    "            #the only one in this column since the rest are zero\n",
    "            A[row][k] = multiplier\n",
    "            for col in range(k + 1, n):\n",
    "                A[row][col] = A[row][col] - multiplier*A[k][col]\n",
    "            #Equation solution column\n",
    "            b[row] = b[row] - multiplier*b[k]\n",
    "    print(A)\n",
    "    print(b)\n",
    "    x = np.zeros(n)\n",
    "    k = n-1\n",
    "    x[k] = b[k]/A[k,k]\n",
    "    while k >= 0:\n",
    "        x[k] = (b[k] - np.dot(A[k,k+1:],x[k+1:]))/A[k,k]\n",
    "        k = k-1\n",
    "    return x"
   ]
  },
  {
   "cell_type": "code",
   "execution_count": 26,
   "metadata": {},
   "outputs": [],
   "source": [
    "a = np.array([[1,2,3], [9,50,6], [7,8,9]], float)\n",
    "b =  np.array([23, 2, 3], float)"
   ]
  },
  {
   "cell_type": "code",
   "execution_count": 27,
   "metadata": {},
   "outputs": [
    {
     "data": {
      "text/plain": [
       "(array([[ 1.,  2.,  3.],\n",
       "        [ 9., 50.,  6.],\n",
       "        [ 7.,  8.,  9.]]),\n",
       " array([23.,  2.,  3.]))"
      ]
     },
     "execution_count": 27,
     "metadata": {},
     "output_type": "execute_result"
    }
   ],
   "source": [
    "a, b"
   ]
  },
  {
   "cell_type": "code",
   "execution_count": 28,
   "metadata": {},
   "outputs": [
    {
     "name": "stdout",
     "output_type": "stream",
     "text": [
      "[[  9.          50.           6.        ]\n",
      " [  0.77777778 -30.88888889   4.33333333]\n",
      " [  0.11111111   0.11510791   1.83453237]]\n",
      "[ 2.          1.44444444 22.61151079]\n"
     ]
    },
    {
     "data": {
      "text/plain": [
       "array([-17.34117647,   1.68235294,  12.3254902 ])"
      ]
     },
     "execution_count": 28,
     "metadata": {},
     "output_type": "execute_result"
    }
   ],
   "source": [
    "GEPP(a, b)"
   ]
  },
  {
   "cell_type": "code",
   "execution_count": 49,
   "metadata": {},
   "outputs": [
    {
     "ename": "ValueError",
     "evalue": "solve: Input operand 1 has a mismatch in its core dimension 0, with gufunc signature (m,m),(m,n)->(m,n) (size 1 is different from 10)",
     "output_type": "error",
     "traceback": [
      "\u001b[0;31m---------------------------------------------------------------------------\u001b[0m",
      "\u001b[0;31mValueError\u001b[0m                                Traceback (most recent call last)",
      "\u001b[0;32m<ipython-input-49-c6f0e5d34895>\u001b[0m in \u001b[0;36m<module>\u001b[0;34m\u001b[0m\n\u001b[0;32m----> 1\u001b[0;31m \u001b[0mnp\u001b[0m\u001b[0;34m.\u001b[0m\u001b[0mlinalg\u001b[0m\u001b[0;34m.\u001b[0m\u001b[0msolve\u001b[0m\u001b[0;34m(\u001b[0m\u001b[0ma\u001b[0m\u001b[0;34m,\u001b[0m \u001b[0mb\u001b[0m\u001b[0;34m)\u001b[0m\u001b[0;34m\u001b[0m\u001b[0;34m\u001b[0m\u001b[0m\n\u001b[0m",
      "\u001b[0;32m<__array_function__ internals>\u001b[0m in \u001b[0;36msolve\u001b[0;34m(*args, **kwargs)\u001b[0m\n",
      "\u001b[0;32m~/anaconda3/lib/python3.8/site-packages/numpy/linalg/linalg.py\u001b[0m in \u001b[0;36msolve\u001b[0;34m(a, b)\u001b[0m\n\u001b[1;32m    391\u001b[0m     \u001b[0msignature\u001b[0m \u001b[0;34m=\u001b[0m \u001b[0;34m'DD->D'\u001b[0m \u001b[0;32mif\u001b[0m \u001b[0misComplexType\u001b[0m\u001b[0;34m(\u001b[0m\u001b[0mt\u001b[0m\u001b[0;34m)\u001b[0m \u001b[0;32melse\u001b[0m \u001b[0;34m'dd->d'\u001b[0m\u001b[0;34m\u001b[0m\u001b[0;34m\u001b[0m\u001b[0m\n\u001b[1;32m    392\u001b[0m     \u001b[0mextobj\u001b[0m \u001b[0;34m=\u001b[0m \u001b[0mget_linalg_error_extobj\u001b[0m\u001b[0;34m(\u001b[0m\u001b[0m_raise_linalgerror_singular\u001b[0m\u001b[0;34m)\u001b[0m\u001b[0;34m\u001b[0m\u001b[0;34m\u001b[0m\u001b[0m\n\u001b[0;32m--> 393\u001b[0;31m     \u001b[0mr\u001b[0m \u001b[0;34m=\u001b[0m \u001b[0mgufunc\u001b[0m\u001b[0;34m(\u001b[0m\u001b[0ma\u001b[0m\u001b[0;34m,\u001b[0m \u001b[0mb\u001b[0m\u001b[0;34m,\u001b[0m \u001b[0msignature\u001b[0m\u001b[0;34m=\u001b[0m\u001b[0msignature\u001b[0m\u001b[0;34m,\u001b[0m \u001b[0mextobj\u001b[0m\u001b[0;34m=\u001b[0m\u001b[0mextobj\u001b[0m\u001b[0;34m)\u001b[0m\u001b[0;34m\u001b[0m\u001b[0;34m\u001b[0m\u001b[0m\n\u001b[0m\u001b[1;32m    394\u001b[0m \u001b[0;34m\u001b[0m\u001b[0m\n\u001b[1;32m    395\u001b[0m     \u001b[0;32mreturn\u001b[0m \u001b[0mwrap\u001b[0m\u001b[0;34m(\u001b[0m\u001b[0mr\u001b[0m\u001b[0;34m.\u001b[0m\u001b[0mastype\u001b[0m\u001b[0;34m(\u001b[0m\u001b[0mresult_t\u001b[0m\u001b[0;34m,\u001b[0m \u001b[0mcopy\u001b[0m\u001b[0;34m=\u001b[0m\u001b[0;32mFalse\u001b[0m\u001b[0;34m)\u001b[0m\u001b[0;34m)\u001b[0m\u001b[0;34m\u001b[0m\u001b[0;34m\u001b[0m\u001b[0m\n",
      "\u001b[0;31mValueError\u001b[0m: solve: Input operand 1 has a mismatch in its core dimension 0, with gufunc signature (m,m),(m,n)->(m,n) (size 1 is different from 10)"
     ]
    }
   ],
   "source": [
    "np.linalg.solve(a, b)"
   ]
  },
  {
   "cell_type": "code",
   "execution_count": 34,
   "metadata": {},
   "outputs": [
    {
     "data": {
      "text/plain": [
       "array([[ 1.491881,  0.651457,  0.047414,  0.456795, -1.023129,  1.241224,\n",
       "        -0.010898,  0.767149,  1.985981, -0.257956],\n",
       "       [-0.17944 ,  0.724406,  0.840021,  0.266869,  0.684371, -0.044924,\n",
       "        -0.304086, -0.76873 ,  0.790368,  0.447817],\n",
       "       [-0.371179,  0.934583,  0.351688,  1.671083,  0.192702, -0.927701,\n",
       "        -1.958715, -0.968374, -0.842763, -0.368496],\n",
       "       [-0.86944 ,  0.333685,  0.62182 , -1.150721,  0.352142,  0.006428,\n",
       "         1.400686, -2.475137, -0.672098, -1.496498],\n",
       "       [-0.509198, -0.834308,  1.360829, -0.399319,  0.243808,  0.592308,\n",
       "        -0.58286 , -0.250973,  0.146439, -1.098776],\n",
       "       [-0.743924,  0.4363  ,  0.27362 ,  0.439097, -2.019041, -0.293689,\n",
       "         0.181448, -1.157241,  0.816425, -0.286322],\n",
       "       [ 0.809364, -0.616299, -0.37616 ,  0.513292,  0.99002 , -0.116785,\n",
       "        -1.555809, -0.882188, -0.069017, -0.010629],\n",
       "       [-0.809671,  0.105263,  0.325037,  0.083329, -1.723855, -2.04296 ,\n",
       "        -0.199242, -0.003231,  0.751013, -0.901877],\n",
       "       [ 1.537242, -1.367169, -1.155901,  0.328549, -1.036223, -0.901195,\n",
       "         0.019408,  0.108507,  1.164968, -0.969897],\n",
       "       [-0.646317, -0.986065,  1.306523, -1.254447,  0.318065,  0.482015,\n",
       "         0.345518, -0.037048,  0.379158, -1.140849]])"
      ]
     },
     "execution_count": 34,
     "metadata": {},
     "output_type": "execute_result"
    }
   ],
   "source": [
    "np.set_printoptions(precision=6)\n",
    "a = np.random.randn(10, 10)\n",
    "a"
   ]
  },
  {
   "cell_type": "code",
   "execution_count": 53,
   "metadata": {},
   "outputs": [],
   "source": [
    "b = np.random.randn(10, 1)"
   ]
  },
  {
   "cell_type": "code",
   "execution_count": 55,
   "metadata": {},
   "outputs": [],
   "source": [
    "c = np.concatenate((a, b), 1)"
   ]
  },
  {
   "cell_type": "code",
   "execution_count": 56,
   "metadata": {},
   "outputs": [
    {
     "data": {
      "text/plain": [
       "(10, 10)"
      ]
     },
     "execution_count": 56,
     "metadata": {},
     "output_type": "execute_result"
    }
   ],
   "source": [
    "a.shape"
   ]
  },
  {
   "cell_type": "code",
   "execution_count": 57,
   "metadata": {},
   "outputs": [
    {
     "data": {
      "text/plain": [
       "(10, 1)"
      ]
     },
     "execution_count": 57,
     "metadata": {},
     "output_type": "execute_result"
    }
   ],
   "source": [
    "b.shape"
   ]
  },
  {
   "cell_type": "code",
   "execution_count": 58,
   "metadata": {},
   "outputs": [
    {
     "data": {
      "text/plain": [
       "(10, 11)"
      ]
     },
     "execution_count": 58,
     "metadata": {},
     "output_type": "execute_result"
    }
   ],
   "source": [
    "c.shape"
   ]
  },
  {
   "cell_type": "code",
   "execution_count": 59,
   "metadata": {},
   "outputs": [
    {
     "name": "stdout",
     "output_type": "stream",
     "text": [
      "[[ 1.537242 -1.367169 -1.155901  0.328549 -1.036223 -0.901195  0.019408\n",
      "   0.108507  1.164968 -0.969897]\n",
      " [ 0.970492  1.978283  1.169206  0.137941 -0.017483  2.115826 -0.029733\n",
      "   0.661844  0.85539   0.683321]\n",
      " [-0.420439 -0.789006  1.743047 -1.007476 -0.131398  1.772516  0.330219\n",
      "   0.530772  1.543864 -1.009488]\n",
      " [-0.241457  0.305553 -0.163316  1.543728 -0.073619 -1.502318 -1.891014\n",
      "  -1.05772  -0.570702 -0.976341]\n",
      " [-0.483934 -0.113897 -0.087543  0.340479 -2.508933  0.177856  0.860212\n",
      "  -0.622753  1.807085 -0.433811]\n",
      " [-0.526704 -0.310789  0.045665  0.223649  0.897834 -1.764681 -0.562744\n",
      "   1.031064  0.065125 -0.54641 ]\n",
      " [ 0.526504  0.052329  0.098244  0.279887 -0.625774 -0.342622 -0.722153\n",
      "  -0.766491  0.43406   0.37803 ]\n",
      " [-0.565584 -0.222195  0.130721 -0.519879  0.103196  0.603072 -0.871556\n",
      "  -4.111558 -0.169109 -1.565079]\n",
      " [-0.116728  0.28551   0.213003  0.311216 -0.24684   0.351516 -0.879304\n",
      "   0.466742  1.414664  1.806266]\n",
      " [-0.331242 -0.65065   0.997501  0.520959 -0.023362 -0.390537  0.193457\n",
      "  -0.188148 -0.142753  0.206877]]\n",
      "[[ 0.411147]\n",
      " [ 0.13167 ]\n",
      " [ 0.642264]\n",
      " [ 0.435573]\n",
      " [-0.070202]\n",
      " [ 1.933655]\n",
      " [ 0.050513]\n",
      " [-0.944032]\n",
      " [ 0.080478]\n",
      " [-1.099267]]\n"
     ]
    },
    {
     "data": {
      "text/plain": [
       "array([-9.982855,  1.586776, -9.803658,  2.192694,  5.257419,  2.218635,\n",
       "       -0.831253,  1.970867,  6.841414, -5.313627])"
      ]
     },
     "execution_count": 59,
     "metadata": {},
     "output_type": "execute_result"
    }
   ],
   "source": [
    "GEPP(a, b)"
   ]
  },
  {
   "cell_type": "code",
   "execution_count": 60,
   "metadata": {},
   "outputs": [
    {
     "data": {
      "text/plain": [
       "array([[ 1.537242, -1.367169, -1.155901,  0.328549, -1.036223, -0.901195,\n",
       "         0.019408,  0.108507,  1.164968, -0.969897,  0.411147],\n",
       "       [-0.17944 ,  0.724406,  0.840021,  0.266869,  0.684371, -0.044924,\n",
       "        -0.304086, -0.76873 ,  0.790368,  0.447817,  0.554442],\n",
       "       [-0.371179,  0.934583,  0.351688,  1.671083,  0.192702, -0.927701,\n",
       "        -1.958715, -0.968374, -0.842763, -0.368496,  0.271639],\n",
       "       [-0.86944 ,  0.333685,  0.62182 , -1.150721,  0.352142,  0.006428,\n",
       "         1.400686, -2.475137, -0.672098, -1.496498, -0.233451],\n",
       "       [-0.509198, -0.834308,  1.360829, -0.399319,  0.243808,  0.592308,\n",
       "        -0.58286 , -0.250973,  0.146439, -1.098776, -1.031174],\n",
       "       [-0.743924,  0.4363  ,  0.27362 ,  0.439097, -2.019041, -0.293689,\n",
       "         0.181448, -1.157241,  0.816425, -0.286322, -0.192089],\n",
       "       [ 0.809364, -0.616299, -0.37616 ,  0.513292,  0.99002 , -0.116785,\n",
       "        -1.555809, -0.882188, -0.069017, -0.010629, -0.159698],\n",
       "       [-0.809671,  0.105263,  0.325037,  0.083329, -1.723855, -2.04296 ,\n",
       "        -0.199242, -0.003231,  0.751013, -0.901877,  1.739896],\n",
       "       [ 1.491881,  0.651457,  0.047414,  0.456795, -1.023129,  1.241224,\n",
       "        -0.010898,  0.767149,  1.985981, -0.257956,  0.530685],\n",
       "       [-0.646317, -0.986065,  1.306523, -1.254447,  0.318065,  0.482015,\n",
       "         0.345518, -0.037048,  0.379158, -1.140849,  0.365513]])"
      ]
     },
     "execution_count": 60,
     "metadata": {},
     "output_type": "execute_result"
    }
   ],
   "source": [
    "c"
   ]
  },
  {
   "cell_type": "code",
   "execution_count": null,
   "metadata": {},
   "outputs": [],
   "source": []
  }
 ],
 "metadata": {
  "interpreter": {
   "hash": "6d01aede67af52a000e9299dba81bb1cadce6b5511ce195c73da7e76597aeed4"
  },
  "kernelspec": {
   "display_name": "Python 3.8.8 64-bit ('base': conda)",
   "name": "python3"
  },
  "language_info": {
   "codemirror_mode": {
    "name": "ipython",
    "version": 3
   },
   "file_extension": ".py",
   "mimetype": "text/x-python",
   "name": "python",
   "nbconvert_exporter": "python",
   "pygments_lexer": "ipython3",
   "version": "3.8.8"
  },
  "orig_nbformat": 4
 },
 "nbformat": 4,
 "nbformat_minor": 2
}
